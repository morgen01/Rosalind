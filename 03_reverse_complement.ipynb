{
 "cells": [
  {
   "cell_type": "code",
   "execution_count": 18,
   "id": "discrete-variance",
   "metadata": {},
   "outputs": [],
   "source": [
    "from Bio.Seq import Seq"
   ]
  },
  {
   "cell_type": "code",
   "execution_count": 12,
   "id": "regional-bouquet",
   "metadata": {},
   "outputs": [],
   "source": [
    "dna = 'AAACCCCGGT'"
   ]
  },
  {
   "cell_type": "code",
   "execution_count": 13,
   "id": "drawn-visit",
   "metadata": {},
   "outputs": [
    {
     "data": {
      "text/plain": [
       "'AAACCCCGGT'"
      ]
     },
     "execution_count": 13,
     "metadata": {},
     "output_type": "execute_result"
    }
   ],
   "source": [
    "dna[:]"
   ]
  },
  {
   "cell_type": "code",
   "execution_count": 14,
   "id": "urban-zimbabwe",
   "metadata": {},
   "outputs": [
    {
     "data": {
      "text/plain": [
       "'TGGCCCCAAA'"
      ]
     },
     "execution_count": 14,
     "metadata": {},
     "output_type": "execute_result"
    }
   ],
   "source": [
    "dna[::-1]"
   ]
  },
  {
   "cell_type": "code",
   "execution_count": null,
   "id": "unexpected-organization",
   "metadata": {},
   "outputs": [],
   "source": []
  },
  {
   "cell_type": "markdown",
   "id": "electronic-palestine",
   "metadata": {},
   "source": [
    "str.translate() method"
   ]
  },
  {
   "cell_type": "code",
   "execution_count": 28,
   "id": "operational-circulation",
   "metadata": {},
   "outputs": [],
   "source": [
    "code = {'A': 'T', 'C': 'G', 'G': 'C', 'T': 'A'}"
   ]
  },
  {
   "cell_type": "code",
   "execution_count": 29,
   "id": "canadian-baltimore",
   "metadata": {},
   "outputs": [
    {
     "name": "stdout",
     "output_type": "stream",
     "text": [
      "A T\n",
      "A T\n",
      "A T\n",
      "C G\n",
      "C G\n",
      "C G\n",
      "C G\n",
      "G C\n",
      "G C\n",
      "T A\n"
     ]
    }
   ],
   "source": [
    "for base in dna:\n",
    "    print(base, code.get(base, base))"
   ]
  },
  {
   "cell_type": "code",
   "execution_count": 30,
   "id": "pacific-biotechnology",
   "metadata": {},
   "outputs": [
    {
     "name": "stdout",
     "output_type": "stream",
     "text": [
      "ACCGGGGTTT\n"
     ]
    }
   ],
   "source": [
    "complement = []\n",
    "for base in dna:\n",
    "    complement += code.get(base, base)\n",
    "\n",
    "print(''.join(reversed(complement)))"
   ]
  },
  {
   "cell_type": "code",
   "execution_count": null,
   "id": "pharmaceutical-productivity",
   "metadata": {},
   "outputs": [],
   "source": []
  },
  {
   "cell_type": "code",
   "execution_count": 34,
   "id": "mediterranean-flexibility",
   "metadata": {},
   "outputs": [
    {
     "name": "stdout",
     "output_type": "stream",
     "text": [
      "ACCGGGGTTT\n"
     ]
    }
   ],
   "source": [
    "print(''.join(reversed([code.get(base, base) for base in dna])))"
   ]
  },
  {
   "cell_type": "code",
   "execution_count": null,
   "id": "pursuant-density",
   "metadata": {},
   "outputs": [],
   "source": []
  },
  {
   "cell_type": "code",
   "execution_count": 35,
   "id": "juvenile-excellence",
   "metadata": {},
   "outputs": [
    {
     "data": {
      "text/plain": [
       "{65: 'T', 67: 'G', 71: 'C', 84: 'A'}"
      ]
     },
     "execution_count": 35,
     "metadata": {},
     "output_type": "execute_result"
    }
   ],
   "source": [
    "str.maketrans(code)"
   ]
  },
  {
   "cell_type": "code",
   "execution_count": 42,
   "id": "healthy-structure",
   "metadata": {},
   "outputs": [
    {
     "name": "stdout",
     "output_type": "stream",
     "text": [
      "TTTGGGGCCA\n"
     ]
    }
   ],
   "source": [
    "print(dna.translate(str.maketrans(code)))"
   ]
  },
  {
   "cell_type": "code",
   "execution_count": null,
   "id": "extensive-thousand",
   "metadata": {},
   "outputs": [],
   "source": []
  },
  {
   "cell_type": "markdown",
   "id": "regulation-spare",
   "metadata": {},
   "source": [
    "BioPython seq object"
   ]
  },
  {
   "cell_type": "code",
   "execution_count": 51,
   "id": "absolute-uruguay",
   "metadata": {},
   "outputs": [],
   "source": [
    "my_seq = Seq('TGCCATTTGGAGTTGTTCGTTATGCGGAACGATACACGTGTTCGACAACGTGCCGAGTCGTGTTGACGCCTAACTGGATAAGTGCCACATTATCCCACTTCAGAATTTCGAACCAGGAGTGATTCGTGCTTCGCAAACGCCACTCCCATCGCTGCTTATGCTCGGCGCCCAATCAATTATATGGAGCCACCCGCGCCTGTCAATTACCATATTGGAGCGAGTCGTCTACTTATTCTCCAGTAAATTCGAGAAACCCGACCCAAACGGCCTATTACCGTGCGCAATTGGAGCCGGTAAGATCGGATAGGAACCTAATGAAGGGGACGATTAATTGGCTAGTTCAGCCAGCGACGGTCTACTTAAGTGCACTGCCCTGGCCTATGGCCAGAAGGTGTGTACTAGCATGTGCCAGCTTAGTATGGAGAGCTGAAAGATTTGCCTGGCTCGATATCTACTCTAGATCCCGTTTGACTGGAGCTATACCACGTGAATGGTATTATACAACAAAGACCTTCGTACACACTCTTGACAGCTATGCCTGACGTGCTCCGTGCGCTGTTAGTACCGTGAGGCCGTAAAGGTGCTCCCTTCATGTCGAGGCGAGGGATGCCAACCATCACGACTTTCGAAACTGCTTAGCTAGCCTAGACGTAGACCCCTGCATGTGAAATAATGGCCAATTCGCGAAGGCTGCGTGCAGAGAGTTTGACAGGACGTAAGAAAGGGCACTTATACCTTGACGGATGTGTCGTTGACGTGAAAACAAAGTTGCACCACCAGCGTTTCGAGCATACGACTCCCTGTGACACTTACGCGCACGTGTCGTGATATAAACTATATCGCCTCTACGACTGACCTTGTATCTCTAAGTCACCCGTACATTCATTGCAGTTTCCGCGGTAAACTCGCCCAAATTTCTCCCCGTAGGGCCGAC')"
   ]
  },
  {
   "cell_type": "code",
   "execution_count": 52,
   "id": "adjustable-university",
   "metadata": {},
   "outputs": [
    {
     "name": "stdout",
     "output_type": "stream",
     "text": [
      "TGCCATTTGGAGTTGTTCGTTATGCGGAACGATACACGTGTTCGACAACGTGCCGAGTCGTGTTGACGCCTAACTGGATAAGTGCCACATTATCCCACTTCAGAATTTCGAACCAGGAGTGATTCGTGCTTCGCAAACGCCACTCCCATCGCTGCTTATGCTCGGCGCCCAATCAATTATATGGAGCCACCCGCGCCTGTCAATTACCATATTGGAGCGAGTCGTCTACTTATTCTCCAGTAAATTCGAGAAACCCGACCCAAACGGCCTATTACCGTGCGCAATTGGAGCCGGTAAGATCGGATAGGAACCTAATGAAGGGGACGATTAATTGGCTAGTTCAGCCAGCGACGGTCTACTTAAGTGCACTGCCCTGGCCTATGGCCAGAAGGTGTGTACTAGCATGTGCCAGCTTAGTATGGAGAGCTGAAAGATTTGCCTGGCTCGATATCTACTCTAGATCCCGTTTGACTGGAGCTATACCACGTGAATGGTATTATACAACAAAGACCTTCGTACACACTCTTGACAGCTATGCCTGACGTGCTCCGTGCGCTGTTAGTACCGTGAGGCCGTAAAGGTGCTCCCTTCATGTCGAGGCGAGGGATGCCAACCATCACGACTTTCGAAACTGCTTAGCTAGCCTAGACGTAGACCCCTGCATGTGAAATAATGGCCAATTCGCGAAGGCTGCGTGCAGAGAGTTTGACAGGACGTAAGAAAGGGCACTTATACCTTGACGGATGTGTCGTTGACGTGAAAACAAAGTTGCACCACCAGCGTTTCGAGCATACGACTCCCTGTGACACTTACGCGCACGTGTCGTGATATAAACTATATCGCCTCTACGACTGACCTTGTATCTCTAAGTCACCCGTACATTCATTGCAGTTTCCGCGGTAAACTCGCCCAAATTTCTCCCCGTAGGGCCGAC\n"
     ]
    }
   ],
   "source": [
    "print(my_seq)"
   ]
  },
  {
   "cell_type": "code",
   "execution_count": 53,
   "id": "olive-induction",
   "metadata": {},
   "outputs": [
    {
     "name": "stdout",
     "output_type": "stream",
     "text": [
      "GTCGGCCCTACGGGGAGAAATTTGGGCGAGTTTACCGCGGAAACTGCAATGAATGTACGGGTGACTTAGAGATACAAGGTCAGTCGTAGAGGCGATATAGTTTATATCACGACACGTGCGCGTAAGTGTCACAGGGAGTCGTATGCTCGAAACGCTGGTGGTGCAACTTTGTTTTCACGTCAACGACACATCCGTCAAGGTATAAGTGCCCTTTCTTACGTCCTGTCAAACTCTCTGCACGCAGCCTTCGCGAATTGGCCATTATTTCACATGCAGGGGTCTACGTCTAGGCTAGCTAAGCAGTTTCGAAAGTCGTGATGGTTGGCATCCCTCGCCTCGACATGAAGGGAGCACCTTTACGGCCTCACGGTACTAACAGCGCACGGAGCACGTCAGGCATAGCTGTCAAGAGTGTGTACGAAGGTCTTTGTTGTATAATACCATTCACGTGGTATAGCTCCAGTCAAACGGGATCTAGAGTAGATATCGAGCCAGGCAAATCTTTCAGCTCTCCATACTAAGCTGGCACATGCTAGTACACACCTTCTGGCCATAGGCCAGGGCAGTGCACTTAAGTAGACCGTCGCTGGCTGAACTAGCCAATTAATCGTCCCCTTCATTAGGTTCCTATCCGATCTTACCGGCTCCAATTGCGCACGGTAATAGGCCGTTTGGGTCGGGTTTCTCGAATTTACTGGAGAATAAGTAGACGACTCGCTCCAATATGGTAATTGACAGGCGCGGGTGGCTCCATATAATTGATTGGGCGCCGAGCATAAGCAGCGATGGGAGTGGCGTTTGCGAAGCACGAATCACTCCTGGTTCGAAATTCTGAAGTGGGATAATGTGGCACTTATCCAGTTAGGCGTCAACACGACTCGGCACGTTGTCGAACACGTGTATCGTTCCGCATAACGAACAACTCCAAATGGCA\n"
     ]
    }
   ],
   "source": [
    "print(my_seq.reverse_complement())"
   ]
  },
  {
   "cell_type": "code",
   "execution_count": null,
   "id": "sustained-america",
   "metadata": {},
   "outputs": [],
   "source": []
  },
  {
   "cell_type": "code",
   "execution_count": null,
   "id": "detailed-williams",
   "metadata": {},
   "outputs": [],
   "source": []
  }
 ],
 "metadata": {
  "kernelspec": {
   "display_name": "Python 3",
   "language": "python",
   "name": "python3"
  },
  "language_info": {
   "codemirror_mode": {
    "name": "ipython",
    "version": 3
   },
   "file_extension": ".py",
   "mimetype": "text/x-python",
   "name": "python",
   "nbconvert_exporter": "python",
   "pygments_lexer": "ipython3",
   "version": "3.9.1"
  }
 },
 "nbformat": 4,
 "nbformat_minor": 5
}
