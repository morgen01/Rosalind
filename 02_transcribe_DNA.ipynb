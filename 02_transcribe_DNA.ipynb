{
 "cells": [
  {
   "cell_type": "code",
   "execution_count": 7,
   "id": "coupled-company",
   "metadata": {},
   "outputs": [],
   "source": [
    "filename = 'rosalind_rna.txt'"
   ]
  },
  {
   "cell_type": "code",
   "execution_count": 8,
   "id": "commercial-tooth",
   "metadata": {},
   "outputs": [
    {
     "name": "stdout",
     "output_type": "stream",
     "text": [
      "GGTTCCATTACATCGCTTTCGGTGCACACCAAGTCTCGTATTGCGACTGATGGGGGCCACAAAGGCAAGATAAGCACTCGCGGGTCGACTCGGGTGATGAGTGTGGTTCAATTCCGTACGTCTGCAGGGTACTTGTTCCGACCACGACGAATGTTACAGGGACGAAAACCGTTTTCCACGTCTGTAGCTTCACTCTAGGATTGACCAGGGTCATACCAGCGAGGATTATATTCGCGGAACTGGGACTAGAGTTAATAAACTGCGCCGATCCACAATGTTAGGTAGCCTCATTATGGACCTGCCGGCGCTCGGGCGAGGTGCGATAATGCCTAGGGACAGCAATTGATCCTTCCTGGTCTGAGGTGATCCAATGACATCCACGTGGCCAAGCGCCACATGGACATTAGTCGTTGTATATAGGCAATTTGTCGGGCAACTGTCGTGGCAATTGCAAGCAAGATGCGTCTGCGATTAACAGGGGTATCGTACGCATGGGCGAATTTCTCATTCCTGTGGTGGAGCGTAGGGAGTGGACAATTGGGCGACGCCGTCTTTGCTTAAGGCCCTAAGGGAAATGAGGTTGTCCCGCCCTTTCTTTGAAATAAGCCCTTCGTACGTGGGACACGGGAACTTCCGATCGGCTTCAGGATGTGCCTACGAATGAACCTCAGCTTCGGATCGGTCTTTTGATTAATCGTCTAGGCACAGATTGTCTGACCAATTTCGTCACATCAGGATGCAATGACTCTGGGCGTAGAATCCGACCTATGCGCATTCAGTATTACCCAAGTAACAAGCATCCCTCTGGTGTATGGCTGGATATACGAGGAATGTATATATGGTCAGACGCGTCGTGCAACTACGCCGTGGCGCGACGCGCCCCATTGCAGGCTACGTATGTTTAAGATAGTGTAGATGGTGAAAGCGCGCGAGCACCGTATGTTTCCGTCTGCCCGCACCGGAGATGGACCATGG\n",
      "\n"
     ]
    }
   ],
   "source": [
    "for line in open (filename, 'r'):\n",
    "    print(line)"
   ]
  },
  {
   "cell_type": "code",
   "execution_count": 9,
   "id": "grateful-oakland",
   "metadata": {},
   "outputs": [
    {
     "data": {
      "text/plain": [
       "'GGTTCCATTACATCGCTTTCGGTGCACACCAAGTCTCGTATTGCGACTGATGGGGGCCACAAAGGCAAGATAAGCACTCGCGGGTCGACTCGGGTGATGAGTGTGGTTCAATTCCGTACGTCTGCAGGGTACTTGTTCCGACCACGACGAATGTTACAGGGACGAAAACCGTTTTCCACGTCTGTAGCTTCACTCTAGGATTGACCAGGGTCATACCAGCGAGGATTATATTCGCGGAACTGGGACTAGAGTTAATAAACTGCGCCGATCCACAATGTTAGGTAGCCTCATTATGGACCTGCCGGCGCTCGGGCGAGGTGCGATAATGCCTAGGGACAGCAATTGATCCTTCCTGGTCTGAGGTGATCCAATGACATCCACGTGGCCAAGCGCCACATGGACATTAGTCGTTGTATATAGGCAATTTGTCGGGCAACTGTCGTGGCAATTGCAAGCAAGATGCGTCTGCGATTAACAGGGGTATCGTACGCATGGGCGAATTTCTCATTCCTGTGGTGGAGCGTAGGGAGTGGACAATTGGGCGACGCCGTCTTTGCTTAAGGCCCTAAGGGAAATGAGGTTGTCCCGCCCTTTCTTTGAAATAAGCCCTTCGTACGTGGGACACGGGAACTTCCGATCGGCTTCAGGATGTGCCTACGAATGAACCTCAGCTTCGGATCGGTCTTTTGATTAATCGTCTAGGCACAGATTGTCTGACCAATTTCGTCACATCAGGATGCAATGACTCTGGGCGTAGAATCCGACCTATGCGCATTCAGTATTACCCAAGTAACAAGCATCCCTCTGGTGTATGGCTGGATATACGAGGAATGTATATATGGTCAGACGCGTCGTGCAACTACGCCGTGGCGCGACGCGCCCCATTGCAGGCTACGTATGTTTAAGATAGTGTAGATGGTGAAAGCGCGCGAGCACCGTATGTTTCCGTCTGCCCGCACCGGAGATGGACCATGG\\n'"
      ]
     },
     "execution_count": 9,
     "metadata": {},
     "output_type": "execute_result"
    }
   ],
   "source": [
    "line"
   ]
  },
  {
   "cell_type": "code",
   "execution_count": 10,
   "id": "hidden-integrity",
   "metadata": {},
   "outputs": [
    {
     "data": {
      "text/plain": [
       "'GGUUCCAUUACAUCGCUUUCGGUGCACACCAAGUCUCGUAUUGCGACUGAUGGGGGCCACAAAGGCAAGAUAAGCACUCGCGGGUCGACUCGGGUGAUGAGUGUGGUUCAAUUCCGUACGUCUGCAGGGUACUUGUUCCGACCACGACGAAUGUUACAGGGACGAAAACCGUUUUCCACGUCUGUAGCUUCACUCUAGGAUUGACCAGGGUCAUACCAGCGAGGAUUAUAUUCGCGGAACUGGGACUAGAGUUAAUAAACUGCGCCGAUCCACAAUGUUAGGUAGCCUCAUUAUGGACCUGCCGGCGCUCGGGCGAGGUGCGAUAAUGCCUAGGGACAGCAAUUGAUCCUUCCUGGUCUGAGGUGAUCCAAUGACAUCCACGUGGCCAAGCGCCACAUGGACAUUAGUCGUUGUAUAUAGGCAAUUUGUCGGGCAACUGUCGUGGCAAUUGCAAGCAAGAUGCGUCUGCGAUUAACAGGGGUAUCGUACGCAUGGGCGAAUUUCUCAUUCCUGUGGUGGAGCGUAGGGAGUGGACAAUUGGGCGACGCCGUCUUUGCUUAAGGCCCUAAGGGAAAUGAGGUUGUCCCGCCCUUUCUUUGAAAUAAGCCCUUCGUACGUGGGACACGGGAACUUCCGAUCGGCUUCAGGAUGUGCCUACGAAUGAACCUCAGCUUCGGAUCGGUCUUUUGAUUAAUCGUCUAGGCACAGAUUGUCUGACCAAUUUCGUCACAUCAGGAUGCAAUGACUCUGGGCGUAGAAUCCGACCUAUGCGCAUUCAGUAUUACCCAAGUAACAAGCAUCCCUCUGGUGUAUGGCUGGAUAUACGAGGAAUGUAUAUAUGGUCAGACGCGUCGUGCAACUACGCCGUGGCGCGACGCGCCCCAUUGCAGGCUACGUAUGUUUAAGAUAGUGUAGAUGGUGAAAGCGCGCGAGCACCGUAUGUUUCCGUCUGCCCGCACCGGAGAUGGACCAUGG\\n'"
      ]
     },
     "execution_count": 10,
     "metadata": {},
     "output_type": "execute_result"
    }
   ],
   "source": [
    "line.replace('T', 'U')"
   ]
  },
  {
   "cell_type": "code",
   "execution_count": 19,
   "id": "economic-adrian",
   "metadata": {},
   "outputs": [
    {
     "name": "stdout",
     "output_type": "stream",
     "text": [
      "743 ns ± 13.5 ns per loop (mean ± std. dev. of 7 runs, 1000000 loops each)\n"
     ]
    }
   ],
   "source": [
    "%%timeit\n",
    "line.replace('T', 'U')"
   ]
  },
  {
   "cell_type": "code",
   "execution_count": null,
   "id": "optimum-newark",
   "metadata": {},
   "outputs": [],
   "source": []
  },
  {
   "cell_type": "code",
   "execution_count": 11,
   "id": "nuclear-pipeline",
   "metadata": {},
   "outputs": [],
   "source": [
    "import re"
   ]
  },
  {
   "cell_type": "code",
   "execution_count": 12,
   "id": "explicit-portfolio",
   "metadata": {},
   "outputs": [],
   "source": [
    "dna = 'ATCGTTTCGAAGG'"
   ]
  },
  {
   "cell_type": "code",
   "execution_count": 16,
   "id": "respected-garlic",
   "metadata": {},
   "outputs": [
    {
     "name": "stdout",
     "output_type": "stream",
     "text": [
      "850 ns ± 26.6 ns per loop (mean ± std. dev. of 7 runs, 1000000 loops each)\n"
     ]
    }
   ],
   "source": [
    "%%timeit\n",
    "re.sub('T', 'U', dna)"
   ]
  },
  {
   "cell_type": "code",
   "execution_count": 21,
   "id": "fantastic-barrier",
   "metadata": {},
   "outputs": [],
   "source": [
    "dna2 = re.sub('T', 'U', dna)"
   ]
  },
  {
   "cell_type": "code",
   "execution_count": 22,
   "id": "governing-elevation",
   "metadata": {},
   "outputs": [
    {
     "data": {
      "text/plain": [
       "'AUCGUUUCGAAGG'"
      ]
     },
     "execution_count": 22,
     "metadata": {},
     "output_type": "execute_result"
    }
   ],
   "source": [
    "dna2"
   ]
  },
  {
   "cell_type": "code",
   "execution_count": null,
   "id": "ideal-banner",
   "metadata": {},
   "outputs": [],
   "source": []
  },
  {
   "cell_type": "code",
   "execution_count": null,
   "id": "protecting-farmer",
   "metadata": {},
   "outputs": [],
   "source": []
  }
 ],
 "metadata": {
  "kernelspec": {
   "display_name": "Python 3",
   "language": "python",
   "name": "python3"
  },
  "language_info": {
   "codemirror_mode": {
    "name": "ipython",
    "version": 3
   },
   "file_extension": ".py",
   "mimetype": "text/x-python",
   "name": "python",
   "nbconvert_exporter": "python",
   "pygments_lexer": "ipython3",
   "version": "3.9.1"
  }
 },
 "nbformat": 4,
 "nbformat_minor": 5
}
