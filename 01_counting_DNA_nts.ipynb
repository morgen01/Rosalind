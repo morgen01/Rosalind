{
 "cells": [
  {
   "cell_type": "code",
   "execution_count": 1,
   "metadata": {},
   "outputs": [],
   "source": [
    "# read in text file\n",
    "#seq = open(\"rosalind_dna.txt\",\"r\").read()"
   ]
  },
  {
   "cell_type": "code",
   "execution_count": 2,
   "metadata": {},
   "outputs": [],
   "source": [
    "filename = 'rosalind_dna.txt'"
   ]
  },
  {
   "cell_type": "code",
   "execution_count": 3,
   "metadata": {
    "scrolled": true
   },
   "outputs": [
    {
     "name": "stdout",
     "output_type": "stream",
     "text": [
      "GGAGCCGGCTTACCGCCCAGCTACTAGGCTACAGCAGCCTGCCTTACTAGGCGAACAGGTCTGCTTAAGATTGGACTTGGTTATAAAGCACCTGAATACGGTTATAACACAACATTTCCGAGGGGAGCTTTGCGGAGCTGGATGGACCGGGGGCGTGATATATCCGATACGGCTGGTCCCTAGTAGTTACGAGCACCATTGCTTAGGGTGACCCTCAGTCCACTGAATCTGCTTCATGCTGTCACGACATCTCGACTCCTGCTGTATGGCACAAGCATTTCCGAAGGCCAGACACCGCCATCGGCTTTACTCCGGCAGGGCCGGCTGACCAAGGCTGTTCGACAGACTGAAACTCGCCCATTTGAAACCGATGAGCATCGCTCCCCGAAGTTGACGAGACTGGCTACTCTTTGCTTGAAAAATACGATTTAATGAAACGGGCAAGCTAAGAGTACCTACCATACCTCAGCCTGCCACTTGAGAAAGACCGCTGAGCAATACCACCATGCATCGGACAGCATGACTGACTACCGCTCAATGGCACAGCGGCGGTCGTACCCTCAATAATGACGTAGTTTGAAGAGTTCCAGGCCCAGCACCGACCAGATACAAGCCACAGAAAGCCTTCCTGTATTGGCTTGACTGGTCCGCCTTAGGCCCTACCGACCGTACTCTGCAACTCACCTGGCAATTGCATCCATAAGCCCATATAAACACGGCTATTTAGCAGGCACGACATTTTAATACTACGCAACGAGAGTTCCTGGAGGCGCGCCTCGTATAAATTACGGCCTATAACTCTCCCCACGTTAGGCGTAGGGTTCTCACATTAATTATGTTGTCAAATGTTGGCCCGCGGTTTATA\n",
      "\n"
     ]
    }
   ],
   "source": [
    "for line in open(filename, 'r'):\n",
    "    print(line)"
   ]
  },
  {
   "cell_type": "code",
   "execution_count": 4,
   "metadata": {},
   "outputs": [
    {
     "name": "stdout",
     "output_type": "stream",
     "text": [
      "866\n"
     ]
    }
   ],
   "source": [
    "print(len(line))"
   ]
  },
  {
   "cell_type": "code",
   "execution_count": 5,
   "metadata": {},
   "outputs": [
    {
     "name": "stdout",
     "output_type": "stream",
     "text": [
      "220 243 205 197\n"
     ]
    }
   ],
   "source": [
    "print(line.count('A'), line.count('C'), line.count('G'), line.count('T'))"
   ]
  },
  {
   "cell_type": "code",
   "execution_count": 6,
   "metadata": {},
   "outputs": [
    {
     "ename": "AttributeError",
     "evalue": "'str' object has no attribute 'close'",
     "output_type": "error",
     "traceback": [
      "\u001b[0;31m---------------------------------------------------------------------------\u001b[0m",
      "\u001b[0;31mAttributeError\u001b[0m                            Traceback (most recent call last)",
      "\u001b[0;32m<ipython-input-6-ea4169bf1cca>\u001b[0m in \u001b[0;36m<module>\u001b[0;34m\u001b[0m\n\u001b[0;32m----> 1\u001b[0;31m \u001b[0mfilename\u001b[0m\u001b[0;34m.\u001b[0m\u001b[0mclose\u001b[0m\u001b[0;34m(\u001b[0m\u001b[0;34m)\u001b[0m\u001b[0;34m\u001b[0m\u001b[0;34m\u001b[0m\u001b[0m\n\u001b[0m",
      "\u001b[0;31mAttributeError\u001b[0m: 'str' object has no attribute 'close'"
     ]
    }
   ],
   "source": [
    "filename.close()"
   ]
  },
  {
   "cell_type": "code",
   "execution_count": null,
   "metadata": {},
   "outputs": [],
   "source": []
  },
  {
   "cell_type": "code",
   "execution_count": null,
   "metadata": {},
   "outputs": [],
   "source": []
  },
  {
   "cell_type": "markdown",
   "metadata": {},
   "source": [
    "The following is an example"
   ]
  },
  {
   "cell_type": "code",
   "execution_count": 10,
   "metadata": {},
   "outputs": [],
   "source": [
    "DNA = 'AGCTTTTCATTCTGACTGCAACGGGCAATATGTCTCTGTGTGGATTAAAAAAAGAGTGTCTGATAGCAGC'"
   ]
  },
  {
   "cell_type": "code",
   "execution_count": 11,
   "metadata": {},
   "outputs": [
    {
     "data": {
      "text/plain": [
       "70"
      ]
     },
     "execution_count": 11,
     "metadata": {},
     "output_type": "execute_result"
    }
   ],
   "source": [
    "len(DNA)"
   ]
  },
  {
   "cell_type": "code",
   "execution_count": 12,
   "metadata": {},
   "outputs": [
    {
     "name": "stdout",
     "output_type": "stream",
     "text": [
      "20 12 21 17\n"
     ]
    }
   ],
   "source": [
    "print(DNA.count('A'), DNA.count('C'), DNA.count('T'), DNA.count('G'))"
   ]
  },
  {
   "cell_type": "code",
   "execution_count": null,
   "metadata": {},
   "outputs": [],
   "source": []
  },
  {
   "cell_type": "code",
   "execution_count": null,
   "metadata": {},
   "outputs": [],
   "source": []
  },
  {
   "cell_type": "code",
   "execution_count": 13,
   "metadata": {},
   "outputs": [],
   "source": []
  },
  {
   "cell_type": "code",
   "execution_count": 15,
   "metadata": {},
   "outputs": [],
   "source": [
    "def DNA_count(DNA):\n",
    "    \"\"\" Function to count bases in DNA. \"\"\"\n",
    "\n",
    "    count_A, count_T, count_G, count_C = 0, 0 , 0 ,0\n",
    "\n",
    "    for base in DNA:\n",
    "        if base == 'A':\n",
    "            count_A += 1\n",
    "        elif base == 'T':\n",
    "            count_T += 1\n",
    "        elif base == 'C':\n",
    "            count_C += 1\n",
    "        elif base == 'G':\n",
    "            count_G += 1\n",
    "\n",
    "    return count_A, count_T, count_C, count_G\n",
    "    "
   ]
  },
  {
   "cell_type": "code",
   "execution_count": 16,
   "metadata": {},
   "outputs": [
    {
     "data": {
      "text/plain": [
       "(20, 21, 12, 17)"
      ]
     },
     "execution_count": 16,
     "metadata": {},
     "output_type": "execute_result"
    }
   ],
   "source": [
    "DNA_count(DNA)"
   ]
  },
  {
   "cell_type": "code",
   "execution_count": null,
   "metadata": {},
   "outputs": [],
   "source": []
  },
  {
   "cell_type": "code",
   "execution_count": 17,
   "metadata": {},
   "outputs": [],
   "source": [
    "from collections import Counter"
   ]
  },
  {
   "cell_type": "code",
   "execution_count": 18,
   "metadata": {},
   "outputs": [
    {
     "data": {
      "text/plain": [
       "Counter({'A': 1, 'C': 2, 'G': 3, 'T': 3})"
      ]
     },
     "execution_count": 18,
     "metadata": {},
     "output_type": "execute_result"
    }
   ],
   "source": [
    "Counter('ACCGGGTTT')"
   ]
  },
  {
   "cell_type": "code",
   "execution_count": 19,
   "metadata": {},
   "outputs": [
    {
     "data": {
      "text/plain": [
       "Counter({'A': 20, 'G': 17, 'C': 12, 'T': 21})"
      ]
     },
     "execution_count": 19,
     "metadata": {},
     "output_type": "execute_result"
    }
   ],
   "source": [
    "Counter(DNA)"
   ]
  },
  {
   "cell_type": "code",
   "execution_count": null,
   "metadata": {},
   "outputs": [],
   "source": []
  }
 ],
 "metadata": {
  "kernelspec": {
   "display_name": "Python 3",
   "language": "python",
   "name": "python3"
  },
  "language_info": {
   "codemirror_mode": {
    "name": "ipython",
    "version": 3
   },
   "file_extension": ".py",
   "mimetype": "text/x-python",
   "name": "python",
   "nbconvert_exporter": "python",
   "pygments_lexer": "ipython3",
   "version": "3.9.1"
  }
 },
 "nbformat": 4,
 "nbformat_minor": 4
}
